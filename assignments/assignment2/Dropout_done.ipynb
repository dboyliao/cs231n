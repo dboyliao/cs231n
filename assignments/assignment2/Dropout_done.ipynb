{
 "cells": [
  {
   "cell_type": "markdown",
   "metadata": {},
   "source": [
    "# Dropout\n",
    "Dropout [1] is a technique for regularizing neural networks by randomly setting some features to zero during the forward pass. In this exercise you will implement a dropout layer and modify your fully-connected network to optionally use dropout.\n",
    "\n",
    "[1] Geoffrey E. Hinton et al, \"Improving neural networks by preventing co-adaptation of feature detectors\", arXiv 2012"
   ]
  },
  {
   "cell_type": "code",
   "execution_count": 2,
   "metadata": {
    "collapsed": true
   },
   "outputs": [],
   "source": [
    "# As usual, a bit of setup\n",
    "from __future__ import print_function\n",
    "import time\n",
    "import numpy as np\n",
    "import matplotlib.pyplot as plt\n",
    "from cs231n.classifiers.fc_net import *\n",
    "from cs231n.data_utils import get_CIFAR10_data\n",
    "from cs231n.gradient_check import eval_numerical_gradient, eval_numerical_gradient_array\n",
    "from cs231n.solver import Solver\n",
    "\n",
    "%matplotlib inline\n",
    "plt.rcParams['figure.figsize'] = (10.0, 8.0) # set default size of plots\n",
    "plt.rcParams['image.interpolation'] = 'nearest'\n",
    "plt.rcParams['image.cmap'] = 'gray'\n",
    "\n",
    "# for auto-reloading external modules\n",
    "# see http://stackoverflow.com/questions/1907993/autoreload-of-modules-in-ipython\n",
    "%load_ext autoreload\n",
    "%autoreload 2\n",
    "\n",
    "def rel_error(x, y):\n",
    "  \"\"\" returns relative error \"\"\"\n",
    "  return np.max(np.abs(x - y) / (np.maximum(1e-8, np.abs(x) + np.abs(y))))"
   ]
  },
  {
   "cell_type": "code",
   "execution_count": 3,
   "metadata": {},
   "outputs": [
    {
     "name": "stdout",
     "output_type": "stream",
     "text": [
      "X_train:  (49000, 3, 32, 32)\n",
      "y_train:  (49000,)\n",
      "X_val:  (1000, 3, 32, 32)\n",
      "y_val:  (1000,)\n",
      "X_test:  (1000, 3, 32, 32)\n",
      "y_test:  (1000,)\n"
     ]
    }
   ],
   "source": [
    "# Load the (preprocessed) CIFAR10 data.\n",
    "\n",
    "data = get_CIFAR10_data()\n",
    "for k, v in data.items():\n",
    "  print('%s: ' % k, v.shape)"
   ]
  },
  {
   "cell_type": "markdown",
   "metadata": {},
   "source": [
    "# Dropout forward pass\n",
    "In the file `cs231n/layers.py`, implement the forward pass for dropout. Since dropout behaves differently during training and testing, make sure to implement the operation for both modes.\n",
    "\n",
    "Once you have done so, run the cell below to test your implementation."
   ]
  },
  {
   "cell_type": "code",
   "execution_count": 5,
   "metadata": {},
   "outputs": [
    {
     "name": "stdout",
     "output_type": "stream",
     "text": [
      "Running tests with p =  0.3\n",
      "Mean of input:  10.0002078785\n",
      "Mean of train-time output:  10.0220472152\n",
      "Mean of test-time output:  10.0002078785\n",
      "Fraction of train-time output set to zero:  0.699328\n",
      "Fraction of test-time output set to zero:  0.0\n",
      "\n",
      "Running tests with p =  0.6\n",
      "Mean of input:  10.0002078785\n",
      "Mean of train-time output:  9.97691075877\n",
      "Mean of test-time output:  10.0002078785\n",
      "Fraction of train-time output set to zero:  0.401368\n",
      "Fraction of test-time output set to zero:  0.0\n",
      "\n",
      "Running tests with p =  0.75\n",
      "Mean of input:  10.0002078785\n",
      "Mean of train-time output:  9.99306858826\n",
      "Mean of test-time output:  10.0002078785\n",
      "Fraction of train-time output set to zero:  0.250496\n",
      "Fraction of test-time output set to zero:  0.0\n",
      "\n"
     ]
    }
   ],
   "source": [
    "np.random.seed(231)\n",
    "x = np.random.randn(500, 500) + 10\n",
    "\n",
    "for p in [0.3, 0.6, 0.75]:\n",
    "  out, _ = dropout_forward(x, {'mode': 'train', 'p': p})\n",
    "  out_test, _ = dropout_forward(x, {'mode': 'test', 'p': p})\n",
    "\n",
    "  print('Running tests with p = ', p)\n",
    "  print('Mean of input: ', x.mean())\n",
    "  print('Mean of train-time output: ', out.mean())\n",
    "  print('Mean of test-time output: ', out_test.mean())\n",
    "  print('Fraction of train-time output set to zero: ', (out == 0).mean())\n",
    "  print('Fraction of test-time output set to zero: ', (out_test == 0).mean())\n",
    "  print()"
   ]
  },
  {
   "cell_type": "markdown",
   "metadata": {},
   "source": [
    "# Dropout backward pass\n",
    "In the file `cs231n/layers.py`, implement the backward pass for dropout. After doing so, run the following cell to numerically gradient-check your implementation."
   ]
  },
  {
   "cell_type": "code",
   "execution_count": 13,
   "metadata": {},
   "outputs": [
    {
     "name": "stdout",
     "output_type": "stream",
     "text": [
      "dx relative error:  1.89289649711e-11\n"
     ]
    }
   ],
   "source": [
    "np.random.seed(231)\n",
    "x = np.random.randn(10, 10) + 10\n",
    "dout = np.random.randn(*x.shape)\n",
    "\n",
    "dropout_param = {'mode': 'train', 'p': 0.8, 'seed': 123}\n",
    "out, cache = dropout_forward(x, dropout_param)\n",
    "dx = dropout_backward(dout, cache)\n",
    "dx_num = eval_numerical_gradient_array(lambda xx: dropout_forward(xx, dropout_param)[0], x, dout)\n",
    "\n",
    "print('dx relative error: ', rel_error(dx, dx_num))"
   ]
  },
  {
   "cell_type": "markdown",
   "metadata": {},
   "source": [
    "# Fully-connected nets with Dropout\n",
    "In the file `cs231n/classifiers/fc_net.py`, modify your implementation to use dropout. Specificially, if the constructor the the net receives a nonzero value for the `dropout` parameter, then the net should add dropout immediately after every ReLU nonlinearity. After doing so, run the following to numerically gradient-check your implementation."
   ]
  },
  {
   "cell_type": "code",
   "execution_count": 14,
   "metadata": {},
   "outputs": [
    {
     "name": "stdout",
     "output_type": "stream",
     "text": [
      "Running check with dropout =  0\n",
      "Initial loss:  2.30047908977\n",
      "W1 relative error: 1.48e-07\n",
      "W2 relative error: 2.21e-05\n",
      "W3 relative error: 3.53e-07\n",
      "b1 relative error: 5.38e-09\n",
      "b2 relative error: 2.09e-09\n",
      "b3 relative error: 5.80e-11\n",
      "\n",
      "Running check with dropout =  0.25\n",
      "Initial loss:  2.30164821578\n",
      "W1 relative error: 6.96e-07\n",
      "W2 relative error: 5.01e-06\n",
      "W3 relative error: 2.96e-07\n",
      "b1 relative error: 1.48e-08\n",
      "b2 relative error: 1.72e-09\n",
      "b3 relative error: 1.32e-10\n",
      "\n",
      "Running check with dropout =  0.5\n",
      "Initial loss:  2.29496325798\n",
      "W1 relative error: 1.20e-07\n",
      "W2 relative error: 5.54e-07\n",
      "W3 relative error: 1.48e-06\n",
      "b1 relative error: 3.30e-09\n",
      "b2 relative error: 4.40e-09\n",
      "b3 relative error: 1.25e-10\n",
      "\n"
     ]
    }
   ],
   "source": [
    "np.random.seed(231)\n",
    "N, D, H1, H2, C = 2, 15, 20, 30, 10\n",
    "X = np.random.randn(N, D)\n",
    "y = np.random.randint(C, size=(N,))\n",
    "\n",
    "for dropout in [0, 0.25, 0.5]:\n",
    "  print('Running check with dropout = ', dropout)\n",
    "  model = FullyConnectedNet([H1, H2], input_dim=D, num_classes=C,\n",
    "                            weight_scale=5e-2, dtype=np.float64,\n",
    "                            dropout=dropout, seed=123)\n",
    "\n",
    "  loss, grads = model.loss(X, y)\n",
    "  print('Initial loss: ', loss)\n",
    "\n",
    "  for name in sorted(grads):\n",
    "    f = lambda _: model.loss(X, y)[0]\n",
    "    grad_num = eval_numerical_gradient(f, model.params[name], verbose=False, h=1e-5)\n",
    "    print('%s relative error: %.2e' % (name, rel_error(grad_num, grads[name])))\n",
    "  print()"
   ]
  },
  {
   "cell_type": "markdown",
   "metadata": {},
   "source": [
    "# Regularization experiment\n",
    "As an experiment, we will train a pair of two-layer networks on 500 training examples: one will use no dropout, and one will use a dropout probability of 0.75. We will then visualize the training and validation accuracies of the two networks over time."
   ]
  },
  {
   "cell_type": "code",
   "execution_count": 22,
   "metadata": {
    "scrolled": false
   },
   "outputs": [
    {
     "name": "stdout",
     "output_type": "stream",
     "text": [
      "0\n",
      "(Iteration 1 / 2500) loss: 8.993790\n",
      "(Epoch 0 / 25) train acc: 0.164000; val_acc: 0.193000\n",
      "(Epoch 1 / 25) train acc: 0.415000; val_acc: 0.366000\n",
      "(Iteration 101 / 2500) loss: 4.962343\n",
      "(Epoch 2 / 25) train acc: 0.469000; val_acc: 0.387000\n",
      "(Iteration 201 / 2500) loss: 3.235250\n",
      "(Epoch 3 / 25) train acc: 0.513000; val_acc: 0.379000\n",
      "(Iteration 301 / 2500) loss: 1.550311\n",
      "(Epoch 4 / 25) train acc: 0.599000; val_acc: 0.412000\n",
      "(Iteration 401 / 2500) loss: 1.541425\n",
      "(Epoch 5 / 25) train acc: 0.603000; val_acc: 0.399000\n",
      "(Iteration 501 / 2500) loss: 1.273772\n",
      "(Epoch 6 / 25) train acc: 0.593000; val_acc: 0.421000\n",
      "(Iteration 601 / 2500) loss: 1.462058\n",
      "(Epoch 7 / 25) train acc: 0.625000; val_acc: 0.415000\n",
      "(Iteration 701 / 2500) loss: 1.011660\n",
      "(Epoch 8 / 25) train acc: 0.581000; val_acc: 0.374000\n",
      "(Iteration 801 / 2500) loss: 1.463266\n",
      "(Epoch 9 / 25) train acc: 0.655000; val_acc: 0.396000\n",
      "(Iteration 901 / 2500) loss: 1.265977\n",
      "(Epoch 10 / 25) train acc: 0.647000; val_acc: 0.398000\n",
      "(Iteration 1001 / 2500) loss: 1.430265\n",
      "(Epoch 11 / 25) train acc: 0.574000; val_acc: 0.363000\n",
      "(Iteration 1101 / 2500) loss: 3.077860\n",
      "(Epoch 12 / 25) train acc: 0.667000; val_acc: 0.399000\n",
      "(Iteration 1201 / 2500) loss: 1.909256\n",
      "(Epoch 13 / 25) train acc: 0.723000; val_acc: 0.409000\n",
      "(Iteration 1301 / 2500) loss: 1.628133\n",
      "(Epoch 14 / 25) train acc: 0.631000; val_acc: 0.418000\n",
      "(Iteration 1401 / 2500) loss: 1.843251\n",
      "(Epoch 15 / 25) train acc: 0.699000; val_acc: 0.419000\n",
      "(Iteration 1501 / 2500) loss: 1.621362\n",
      "(Epoch 16 / 25) train acc: 0.651000; val_acc: 0.417000\n",
      "(Iteration 1601 / 2500) loss: 1.957257\n",
      "(Epoch 17 / 25) train acc: 0.635000; val_acc: 0.366000\n",
      "(Iteration 1701 / 2500) loss: 2.301765\n",
      "(Epoch 18 / 25) train acc: 0.646000; val_acc: 0.370000\n",
      "(Iteration 1801 / 2500) loss: 2.096512\n",
      "(Epoch 19 / 25) train acc: 0.649000; val_acc: 0.389000\n",
      "(Iteration 1901 / 2500) loss: 3.006391\n",
      "(Epoch 20 / 25) train acc: 0.727000; val_acc: 0.394000\n",
      "(Iteration 2001 / 2500) loss: 1.581857\n",
      "(Epoch 21 / 25) train acc: 0.729000; val_acc: 0.394000\n",
      "(Iteration 2101 / 2500) loss: 1.897648\n",
      "(Epoch 22 / 25) train acc: 0.723000; val_acc: 0.394000\n",
      "(Iteration 2201 / 2500) loss: 1.154332\n",
      "(Epoch 23 / 25) train acc: 0.738000; val_acc: 0.410000\n",
      "(Iteration 2301 / 2500) loss: 1.466380\n",
      "(Epoch 24 / 25) train acc: 0.733000; val_acc: 0.425000\n",
      "(Iteration 2401 / 2500) loss: 2.842659\n",
      "(Epoch 25 / 25) train acc: 0.742000; val_acc: 0.388000\n",
      "0.75\n",
      "(Iteration 1 / 2500) loss: 8.693812\n",
      "(Epoch 0 / 25) train acc: 0.211000; val_acc: 0.207000\n",
      "(Epoch 1 / 25) train acc: 0.403000; val_acc: 0.325000\n",
      "(Iteration 101 / 2500) loss: 4.167928\n",
      "(Epoch 2 / 25) train acc: 0.519000; val_acc: 0.377000\n",
      "(Iteration 201 / 2500) loss: 3.243726\n",
      "(Epoch 3 / 25) train acc: 0.550000; val_acc: 0.392000\n",
      "(Iteration 301 / 2500) loss: 1.709870\n",
      "(Epoch 4 / 25) train acc: 0.578000; val_acc: 0.403000\n",
      "(Iteration 401 / 2500) loss: 1.252486\n",
      "(Epoch 5 / 25) train acc: 0.613000; val_acc: 0.402000\n",
      "(Iteration 501 / 2500) loss: 1.610291\n",
      "(Epoch 6 / 25) train acc: 0.567000; val_acc: 0.374000\n",
      "(Iteration 601 / 2500) loss: 1.252370\n",
      "(Epoch 7 / 25) train acc: 0.638000; val_acc: 0.419000\n",
      "(Iteration 701 / 2500) loss: 1.341814\n",
      "(Epoch 8 / 25) train acc: 0.566000; val_acc: 0.360000\n",
      "(Iteration 801 / 2500) loss: 1.375087\n",
      "(Epoch 9 / 25) train acc: 0.625000; val_acc: 0.388000\n",
      "(Iteration 901 / 2500) loss: 1.332013\n",
      "(Epoch 10 / 25) train acc: 0.631000; val_acc: 0.393000\n",
      "(Iteration 1001 / 2500) loss: 1.219414\n",
      "(Epoch 11 / 25) train acc: 0.624000; val_acc: 0.389000\n",
      "(Iteration 1101 / 2500) loss: 1.577087\n",
      "(Epoch 12 / 25) train acc: 0.649000; val_acc: 0.406000\n",
      "(Iteration 1201 / 2500) loss: 1.398419\n",
      "(Epoch 13 / 25) train acc: 0.599000; val_acc: 0.386000\n",
      "(Iteration 1301 / 2500) loss: 1.839199\n",
      "(Epoch 14 / 25) train acc: 0.581000; val_acc: 0.356000\n",
      "(Iteration 1401 / 2500) loss: 2.811495\n",
      "(Epoch 15 / 25) train acc: 0.624000; val_acc: 0.373000\n",
      "(Iteration 1501 / 2500) loss: 2.040119\n",
      "(Epoch 16 / 25) train acc: 0.608000; val_acc: 0.373000\n",
      "(Iteration 1601 / 2500) loss: 1.806678\n",
      "(Epoch 17 / 25) train acc: 0.728000; val_acc: 0.369000\n",
      "(Iteration 1701 / 2500) loss: 1.328243\n",
      "(Epoch 18 / 25) train acc: 0.677000; val_acc: 0.398000\n",
      "(Iteration 1801 / 2500) loss: 1.386995\n",
      "(Epoch 19 / 25) train acc: 0.651000; val_acc: 0.372000\n",
      "(Iteration 1901 / 2500) loss: 1.425009\n",
      "(Epoch 20 / 25) train acc: 0.705000; val_acc: 0.386000\n",
      "(Iteration 2001 / 2500) loss: 1.461244\n",
      "(Epoch 21 / 25) train acc: 0.663000; val_acc: 0.381000\n",
      "(Iteration 2101 / 2500) loss: 2.435493\n",
      "(Epoch 22 / 25) train acc: 0.706000; val_acc: 0.392000\n",
      "(Iteration 2201 / 2500) loss: 1.648952\n",
      "(Epoch 23 / 25) train acc: 0.706000; val_acc: 0.378000\n",
      "(Iteration 2301 / 2500) loss: 1.902398\n",
      "(Epoch 24 / 25) train acc: 0.703000; val_acc: 0.392000\n",
      "(Iteration 2401 / 2500) loss: 1.455671\n",
      "(Epoch 25 / 25) train acc: 0.722000; val_acc: 0.394000\n"
     ]
    }
   ],
   "source": [
    "# Train two identical nets, one with dropout and one without\n",
    "np.random.seed(231)\n",
    "num_train = 10000\n",
    "small_data = {\n",
    "  'X_train': data['X_train'][:num_train],\n",
    "  'y_train': data['y_train'][:num_train],\n",
    "  'X_val': data['X_val'],\n",
    "  'y_val': data['y_val'],\n",
    "}\n",
    "\n",
    "solvers = {}\n",
    "dropout_choices = [0, 0.75]\n",
    "for dropout in dropout_choices:\n",
    "  model = FullyConnectedNet([500], dropout=dropout)\n",
    "  print(dropout)\n",
    "\n",
    "  solver = Solver(model, small_data,\n",
    "                  num_epochs=25, batch_size=100,\n",
    "                  update_rule='adam',\n",
    "                  optim_config={\n",
    "                    'learning_rate': 5e-4,\n",
    "                  },\n",
    "                  verbose=True, print_every=100000)\n",
    "  solver.train()\n",
    "  solvers[dropout] = solver"
   ]
  },
  {
   "cell_type": "code",
   "execution_count": 23,
   "metadata": {},
   "outputs": [
    {
     "data": {
      "image/png": "[encoded data removed]",
      "text/plain": [
       "<matplotlib.figure.Figure at 0x7f6571509400>"
      ]
     },
     "metadata": {},
     "output_type": "display_data"
    }
   ],
   "source": [
    "# Plot train and validation accuracies of the two models\n",
    "\n",
    "train_accs = []\n",
    "val_accs = []\n",
    "for dropout in dropout_choices:\n",
    "  solver = solvers[dropout]\n",
    "  train_accs.append(solver.train_acc_history[-1])\n",
    "  val_accs.append(solver.val_acc_history[-1])\n",
    "\n",
    "plt.subplot(3, 1, 1)\n",
    "for dropout in dropout_choices:\n",
    "  plt.plot(solvers[dropout].train_acc_history, 'o', label='%.2f dropout' % dropout)\n",
    "plt.title('Train accuracy')\n",
    "plt.xlabel('Epoch')\n",
    "plt.ylabel('Accuracy')\n",
    "plt.legend(ncol=2, loc='lower right')\n",
    "  \n",
    "plt.subplot(3, 1, 2)\n",
    "for dropout in dropout_choices:\n",
    "  plt.plot(solvers[dropout].val_acc_history, 'o', label='%.2f dropout' % dropout)\n",
    "plt.title('Val accuracy')\n",
    "plt.xlabel('Epoch')\n",
    "plt.ylabel('Accuracy')\n",
    "plt.legend(ncol=2, loc='lower right')\n",
    "\n",
    "plt.gcf().set_size_inches(15, 15)\n",
    "plt.show()"
   ]
  },
  {
   "cell_type": "markdown",
   "metadata": {},
   "source": [
    "# Question\n",
    "Explain what you see in this experiment. What does it suggest about dropout?"
   ]
  },
  {
   "cell_type": "markdown",
   "metadata": {},
   "source": [
    "# Answer\n",
    "\n",
    "The performance is similar on validation set for both model, so I think it's due to the size of training data\n",
    "\n",
    "With dropout, we can see that the gap between traing accuracy and training accuracy is smaller (82% v.s 36% and 77% v.s 33%) which suggests that dropout is an effective regularization tool.\n",
    "\n",
    "I have to try on larger dataset to give my final judgement."
   ]
  },
  {
   "cell_type": "code",
   "execution_count": null,
   "metadata": {
    "collapsed": true
   },
   "outputs": [],
   "source": []
  }
 ],
 "metadata": {
  "kernelspec": {
   "display_name": "Python 3",
   "language": "python",
   "name": "python3"
  },
  "language_info": {
   "codemirror_mode": {
    "name": "ipython",
    "version": 3
   },
   "file_extension": ".py",
   "mimetype": "text/x-python",
   "name": "python",
   "nbconvert_exporter": "python",
   "pygments_lexer": "ipython3",
   "version": "3.6.1"
  }
 },
 "nbformat": 4,
 "nbformat_minor": 1
}
